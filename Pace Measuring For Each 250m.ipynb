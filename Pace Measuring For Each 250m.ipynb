{
 "cells": [
  {
   "cell_type": "code",
   "execution_count": 64,
   "id": "edd9d2d9",
   "metadata": {},
   "outputs": [],
   "source": [
    "import datetime"
   ]
  },
  {
   "cell_type": "code",
   "execution_count": 73,
   "id": "bd87f5fb",
   "metadata": {},
   "outputs": [
    {
     "name": "stdout",
     "output_type": "stream",
     "text": [
      "Enter pace: 6.42\n",
      "Enter distance: 5\n"
     ]
    }
   ],
   "source": [
    "pace = float(input(\"Enter pace: \"))\n",
    "distance = int(input(\"Enter distance: \"))"
   ]
  },
  {
   "cell_type": "code",
   "execution_count": 74,
   "id": "3e198fff",
   "metadata": {},
   "outputs": [],
   "source": [
    "def conv_to_total_seconds(pace, distance):\n",
    "    pace = pace * 60\n",
    "    total = pace * distance\n",
    "    return total"
   ]
  },
  {
   "cell_type": "code",
   "execution_count": 75,
   "id": "7c2300e5",
   "metadata": {},
   "outputs": [],
   "source": [
    "total = conv_to_total_seconds(pace, distance)"
   ]
  },
  {
   "cell_type": "code",
   "execution_count": 76,
   "id": "fc87d0c9",
   "metadata": {},
   "outputs": [],
   "source": [
    "def define_quarters(total, distance):\n",
    "    quarters = []\n",
    "    quarterly = 0\n",
    "    for i in range(distance):\n",
    "        for j in range(3,-1,-1):\n",
    "            quarterly = quarterly + (total / distance * 1 / 4)\n",
    "            quarters.append(quarterly)\n",
    "    return quarters"
   ]
  },
  {
   "cell_type": "code",
   "execution_count": 77,
   "id": "bae71e10",
   "metadata": {},
   "outputs": [],
   "source": [
    "f = open('pace.txt', 'w')"
   ]
  },
  {
   "cell_type": "code",
   "execution_count": 78,
   "id": "5eab89c9",
   "metadata": {},
   "outputs": [],
   "source": [
    "quarters = define_quarters(total, distance)\n",
    "full_quarter = 1\n",
    "quarter_distance = 250\n",
    "\n",
    "for i in quarters:\n",
    "    print(str(datetime.timedelta(seconds = i)), quarter_distance, 'm', file=f)\n",
    "    if full_quarter % 4 == 0:\n",
    "        print((full_quarter / 4),' km', file=f)\n",
    "    full_quarter = full_quarter + 1\n",
    "    quarter_distance = quarter_distance + 250"
   ]
  },
  {
   "cell_type": "code",
   "execution_count": 79,
   "id": "8c5b9245",
   "metadata": {},
   "outputs": [],
   "source": [
    "f.close()"
   ]
  },
  {
   "cell_type": "code",
   "execution_count": null,
   "id": "04857ace",
   "metadata": {},
   "outputs": [],
   "source": []
  }
 ],
 "metadata": {
  "kernelspec": {
   "display_name": "Python 3",
   "language": "python",
   "name": "python3"
  },
  "language_info": {
   "codemirror_mode": {
    "name": "ipython",
    "version": 3
   },
   "file_extension": ".py",
   "mimetype": "text/x-python",
   "name": "python",
   "nbconvert_exporter": "python",
   "pygments_lexer": "ipython3",
   "version": "3.8.8"
  }
 },
 "nbformat": 4,
 "nbformat_minor": 5
}
